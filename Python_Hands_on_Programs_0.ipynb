{
 "cells": [
  {
   "cell_type": "code",
   "execution_count": 5,
   "metadata": {},
   "outputs": [
    {
     "name": "stdout",
     "output_type": "stream",
     "text": [
      "\n",
      " Addition of two numbers is 30\n",
      "\n",
      " Subtraction of two numbers is 10\n",
      "\n",
      " Multiplication of two numbers is 200\n",
      "\n",
      " Division of two numbers is 2.0\n"
     ]
    }
   ],
   "source": [
    "#!/usr/bin/python\n",
    "a, b = 20, 10\n",
    "c = a + b\n",
    "print('\\n Addition of two numbers is', c)\n",
    "c = a - b\n",
    "print('\\n Subtraction of two numbers is', c)\n",
    "c = a * b \n",
    "print('\\n Multiplication of two numbers is', c)\n",
    "c = a / b \n",
    "print('\\n Division of two numbers is', c)\n"
   ]
  },
  {
   "cell_type": "code",
   "execution_count": 6,
   "metadata": {},
   "outputs": [
    {
     "name": "stdout",
     "output_type": "stream",
     "text": [
      "Biggest of three numbers is 30\n"
     ]
    }
   ],
   "source": [
    "#!/usr/bin/python\n",
    "a, b, c = 20, 10, 30\n",
    "if a > b and a > c:\n",
    "    print('Biggest of three numbers is', a)\n",
    "if b > a and b> c:\n",
    "    print('Biggest of three numbers is', b)\n",
    "if c > a and c > b:\n",
    "    print('Biggest of three numbers is', c)"
   ]
  },
  {
   "cell_type": "code",
   "execution_count": 7,
   "metadata": {},
   "outputs": [
    {
     "name": "stdout",
     "output_type": "stream",
     "text": [
      "Given number is 30 even\n"
     ]
    }
   ],
   "source": [
    "#!/usr/bin/python\n",
    "a = 10\n",
    "b = a % 2\n",
    "if b == 0 :\n",
    "    print('Given number is', c,'even')\n",
    "else:\n",
    "    print('Given number is', c,'odd')\n"
   ]
  },
  {
   "cell_type": "code",
   "execution_count": 10,
   "metadata": {},
   "outputs": [
    {
     "name": "stdout",
     "output_type": "stream",
     "text": [
      "The given number 7 is not prime\n",
      "The given number 7 is prime\n"
     ]
    }
   ],
   "source": [
    "#!usr/bin/python\n",
    "a = 7\n",
    "for i in range(1, a-1):\n",
    "    if a % i == 0 :\n",
    "        print('The given number', a,'is not prime')\n",
    "    else:\n",
    "        print('The given number', a,'is prime')\n",
    "        break\n"
   ]
  },
  {
   "cell_type": "code",
   "execution_count": 12,
   "metadata": {},
   "outputs": [
    {
     "name": "stdout",
     "output_type": "stream",
     "text": [
      "Enter 1st arg:1\n",
      "Enter 2nd arg:2\n",
      "Enter 3rd arg:5\n",
      "First number is 1\n",
      "Second number is 2\n",
      "Third number is 5\n",
      "The biggest of three numbers is 5\n"
     ]
    }
   ],
   "source": [
    "#!/usr/bin/python\n",
    "#to pass command line ARG you need to create a .py file for below code and pass arg\n",
    "import sys\n",
    "#comment below three line if passing arg from cmd, i'm using jupter so taking as input to show output\n",
    "arg1=int(input('Enter 1st arg:'))\n",
    "arg2=int(input('Enter 2nd arg:'))\n",
    "arg3=int(input('Enter 3rd arg:'))\n",
    "print('First number is', arg1)\n",
    "print('Second number is', arg2)\n",
    "print('Third number is', arg3)\n",
    "print ('The biggest of three numbers is', max(arg1, arg2, arg3))\n"
   ]
  },
  {
   "cell_type": "code",
   "execution_count": 14,
   "metadata": {},
   "outputs": [
    {
     "name": "stdout",
     "output_type": "stream",
     "text": [
      "current letter is C\n",
      "current letter is h\n",
      "current letter is e\n",
      "current letter is n\n",
      "current letter is n\n",
      "current letter is a\n",
      "current letter is i\n",
      "Sub string is enn\n",
      "Repeated string is  ChennaiChennaiChennaiChennaiChennai\n",
      "Concatenated string is  ChennaiCity\n"
     ]
    }
   ],
   "source": [
    "#!usr/bin/python\n",
    "str1 ='Chennai'\n",
    "str2 = 'City'\n",
    "for i in str1:\n",
    "    print('current letter is', i)\n",
    "str3 = str1[2:5]\n",
    "print ('Sub string is', str3)\n",
    "print ('Repeated string is ', str1 * 5)\n",
    "print ('Concatenated string is ', str1 + str2)"
   ]
  },
  {
   "cell_type": "code",
   "execution_count": 16,
   "metadata": {},
   "outputs": [
    {
     "name": "stdout",
     "output_type": "stream",
     "text": [
      "\n",
      " [23, 'Hello']\n",
      "\n",
      " [12, 23, 'Hello', 60.6, 'Chennai', 12, 23, 'Hello', 60.6, 'Chennai']\n",
      "\n",
      " [12, 23, 'Hello', 60.6, 'Chennai', 21, 32, 60]\n"
     ]
    }
   ],
   "source": [
    "#!/usr/bin/python\n",
    "List1 = [12, 23, 'Hello', 60.6, 'Chennai']\n",
    "List2 = [21, 32, 60]\n",
    "a = List1 [1:3] \n",
    "b = List1 * 2\n",
    "c = List1 + List2\n",
    "print('\\n', a )\n",
    "print('\\n', b )\n",
    "print('\\n', c )\n"
   ]
  },
  {
   "cell_type": "code",
   "execution_count": 17,
   "metadata": {},
   "outputs": [
    {
     "name": "stdout",
     "output_type": "stream",
     "text": [
      "\n",
      " (23, 'Hello')\n",
      "\n",
      " (12, 23, 'Hello', 60.6, 'Chennai', 12, 23, 'Hello', 60.6, 'Chennai')\n",
      "\n",
      " (12, 23, 'Hello', 60.6, 'Chennai', 21, 32, 60)\n"
     ]
    }
   ],
   "source": [
    "#!/usr/bin/python\n",
    "Tuple1 = (12, 23, 'Hello', 60.6, 'Chennai')\n",
    "Tuple2 = (21, 32, 60)\n",
    "a = Tuple1[1:3] \n",
    "b = Tuple1 * 2\n",
    "c = Tuple1 + Tuple2\n",
    "print('\\n', a )\n",
    "print('\\n', b )\n",
    "print('\\n', c )"
   ]
  },
  {
   "cell_type": "code",
   "execution_count": 22,
   "metadata": {},
   "outputs": [
    {
     "name": "stdout",
     "output_type": "stream",
     "text": [
      "Enter 1st input in form of a + bj:1+2j\n",
      "Enter 2nd input in form of a + bj:2+3j\n",
      "\n",
      " Addition of two numbers is (3+5j)\n",
      "\n",
      " Subtraction of two numbers is (-1-1j)\n",
      "\n",
      " Multiplication of two numbers is (-4+7j)\n",
      "\n",
      " Division of two numbers is (0.6153846153846154+0.07692307692307691j)\n"
     ]
    }
   ],
   "source": [
    "#!/usr/bin/python\n",
    "a = complex(input('Enter 1st input in form of a + bj:'))\n",
    "b = complex(input('Enter 2nd input in form of a + bj:'))\n",
    "c = a + b\n",
    "print ('\\n Addition of two numbers is', c)\n",
    "c = a - b\n",
    "print ('\\n Subtraction of two numbers is', c)\n",
    "c = a * b \n",
    "print ('\\n Multiplication of two numbers is', c)\n",
    "c = a / b \n",
    "print ('\\n Division of two numbers is', c)\n"
   ]
  },
  {
   "cell_type": "code",
   "execution_count": 23,
   "metadata": {},
   "outputs": [
    {
     "name": "stdout",
     "output_type": "stream",
     "text": [
      "Enter Number:2\n",
      "\n",
      " Addition of two numbers is 3\n",
      "\n",
      " Subtraction of two numbers is 1\n",
      "\n",
      " Multiplication of two numbers is 2\n",
      "\n",
      " Division of two numbers is 1.0\n",
      "\n",
      " modulus of two numbers is 1.0\n",
      "\n",
      " Exponentiation of two numbers is 1.0\n",
      "\n",
      " Floor division of two numbers is 0.0\n"
     ]
    }
   ],
   "source": [
    "#!/usr/bin/python\n",
    "a=int(input('Enter Number:'))\n",
    "b=1\n",
    "b += a\n",
    "print('\\n Addition of two numbers is', b)\n",
    "b -= a\n",
    "print('\\n Subtraction of two numbers is', b)\n",
    "b *= a \n",
    "print('\\n Multiplication of two numbers is', b)\n",
    "b /= a \n",
    "print('\\n Division of two numbers is', b)\n",
    "b %= a\n",
    "print('\\n modulus of two numbers is', b)\n",
    "b **= a\n",
    "print('\\n Exponentiation of two numbers is', b)\n",
    "b //= a\n",
    "print('\\n Floor division of two numbers is', b)"
   ]
  },
  {
   "cell_type": "code",
   "execution_count": 26,
   "metadata": {},
   "outputs": [
    {
     "name": "stdout",
     "output_type": "stream",
     "text": [
      "Enter 1st Number:5\n",
      "Enter 2nd Number:6\n",
      "5\n",
      "6\n",
      "6\n"
     ]
    },
    {
     "data": {
      "text/plain": [
       "int"
      ]
     },
     "execution_count": 26,
     "metadata": {},
     "output_type": "execute_result"
    }
   ],
   "source": [
    "#!/usr/bin/python\n",
    "a=int(input('Enter 1st Number:'))\n",
    "b=int(input('Enter 2nd Number:'))\n",
    "c = a and b\n",
    "d = a or b\n",
    "e = not(a and b)\n",
    "print(a)\n",
    "print(b)\n",
    "print(c)\n",
    "type(c)\n"
   ]
  },
  {
   "cell_type": "code",
   "execution_count": null,
   "metadata": {},
   "outputs": [],
   "source": []
  }
 ],
 "metadata": {
  "kernelspec": {
   "display_name": "Python 3",
   "language": "python",
   "name": "python3"
  },
  "language_info": {
   "codemirror_mode": {
    "name": "ipython",
    "version": 3
   },
   "file_extension": ".py",
   "mimetype": "text/x-python",
   "name": "python",
   "nbconvert_exporter": "python",
   "pygments_lexer": "ipython3",
   "version": "3.7.1"
  }
 },
 "nbformat": 4,
 "nbformat_minor": 2
}
